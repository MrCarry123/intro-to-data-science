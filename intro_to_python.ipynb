{
 "cells": [
  {
   "cell_type": "markdown",
   "id": "c31ae772-d403-4862-ba0c-57b0a6e0166f",
   "metadata": {},
   "source": [
    "# Introduction to Data Analysis with Python\n",
    "\n",
    "Python has been the go-to Data Science programming language for awhile now because of the vast number of packages written in it, its ease of use, and high readability. Python is considered an *easy* programming language to pickup - **low barrier of entry**. There are two reasons for this: \n",
    "\n",
    "**1. Quick Development** \n",
    "\n",
    "Python is installed on most Operating Systems and you can start developing in it in 1 line. For example, on *any* Mac / Apple open the native *Terminal* app, type **\"Python\"**, hit enter, and you are in a Python interpreter. \n",
    "\n",
    "**2. Python Code is VERY similar to pseudocode** \n",
    "\n",
    "There is a lot less syntax and convoluted computer science things going on on the surface. This makes Python code only slightly different from pseudocode. This is what makes a lot of people say that Python is a very easy first programming language to learn. There is a whole mess of things under the hood, but the product on the surface that people see looks very clean and concise. "
   ]
  },
  {
   "cell_type": "markdown",
   "id": "bd1386f3-d202-439f-9dab-0b400dabe1b6",
   "metadata": {},
   "source": [
    "## REPL \n",
    "\n",
    "Read Evaluate Print and Loop \n",
    "\n",
    "An example of a REPL is when you type \"Python\" in Terminal and the three > signs emerge. "
   ]
  },
  {
   "cell_type": "markdown",
   "id": "ceb8ad54-832e-4f6f-9b1b-86cf5dc98746",
   "metadata": {},
   "source": [
    "### Terminal \n",
    "\n",
    "Go to \"Applications / Utilities / Terminal\" and open. You will see the \"$\" cursor. Just next to that moneysign cursor type in \"Python\" or \"Python3\" and it you will be able to evaluate Python code, like so: \n",
    "\n",
    "~~~code\n",
    "    $ python \n",
    "    STARTS PYTHON...\n",
    "    >>> 2 + 2 \n",
    "    4\n",
    "~~~"
   ]
  },
  {
   "cell_type": "markdown",
   "id": "86fa97bc-f0c3-4a46-8e71-2867b174ed49",
   "metadata": {},
   "source": [
    "#### Python Versions \n",
    "\n",
    "It is beyond the scope of this intro mini-course but there are 2 major versions of Python. \n",
    "\n",
    "**Python 2.X** and **Python 3.X** \n",
    "\n",
    "We will be using **Python 3.X** throughout this whole tutorial. "
   ]
  },
  {
   "cell_type": "markdown",
   "id": "f69bc363-9d2c-4802-b8c8-ac33eff5847e",
   "metadata": {},
   "source": [
    "### Python Code\n",
    "\n",
    "Writting code in Python looks a lot like pseudocode. \n",
    "\n",
    "For example - here is pseudocode for converting between Farenheit and Celsius. \n",
    "\n",
    "~~~\n",
    "    Get user input if F to C or C to F conversion\n",
    "    Get user input of what number temperature \n",
    "    \n",
    "    if 1 is pressed\n",
    "        do (temp - 32) * (5 / 9)\n",
    "        print output \n",
    "    \n",
    "    elif 2 is pressed \n",
    "        do (temp * (9 / 5)) + 32\n",
    "        print output\n",
    "        \n",
    "    else\n",
    "        print error \n",
    "~~~\n",
    "\n",
    "And the Python code below: "
   ]
  },
  {
   "cell_type": "code",
   "execution_count": null,
   "id": "e413e635-bfe7-4c04-a02a-55f8e1774447",
   "metadata": {},
   "outputs": [
    {
     "name": "stdin",
     "output_type": "stream",
     "text": [
      "1 to convert F to C or 2 for C to F 1\n"
     ]
    }
   ],
   "source": [
    "convert_type = input(\"1 to convert F to C or 2 for C to F\")\n",
    "temp = input(\"What initial temperature?\")\n",
    "\n",
    "if int(convert_type) == 1:\n",
    "    new_temp = (float(temp) - 32) * (5 / 9)\n",
    "    print(\"Temp in C: %s\" %new_temp)\n",
    "\n",
    "elif int(convert_type) == 2:\n",
    "    new_temp = (float(temp) * (9 / 5)) + 32\n",
    "    print(\"Temp in F: %s\" %new_temp)\n",
    "\n",
    "else:\n",
    "    print(\"Please type either 1 or 2\")"
   ]
  },
  {
   "cell_type": "code",
   "execution_count": null,
   "id": "13671031-3813-4da7-9208-26803c438d37",
   "metadata": {},
   "outputs": [],
   "source": []
  }
 ],
 "metadata": {
  "kernelspec": {
   "display_name": "Python 3 (ipykernel)",
   "language": "python",
   "name": "python3"
  },
  "language_info": {
   "codemirror_mode": {
    "name": "ipython",
    "version": 3
   },
   "file_extension": ".py",
   "mimetype": "text/x-python",
   "name": "python",
   "nbconvert_exporter": "python",
   "pygments_lexer": "ipython3",
   "version": "3.10.9"
  }
 },
 "nbformat": 4,
 "nbformat_minor": 5
}
