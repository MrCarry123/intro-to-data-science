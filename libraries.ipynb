{
 "cells": [
  {
   "cell_type": "markdown",
   "id": "25bc8403-f394-40f5-b3ff-77fb311fd0d9",
   "metadata": {},
   "source": [
    "# Python Libraries\n",
    "\n",
    "## Library Overview \n",
    "\n",
    "Libraries are another way of saying *package*. Libraries are packages of code that are pre-written and extend useability in the form of classes and functions. The following is just for illustrative purposes but is meant to show a Python file that contains a Python function that can be called in other files - *i.e. a simple version of a library:* \n",
    "\n",
    "~~~python\n",
    "    # mylibrary.py\n",
    "    #\n",
    "    # print a message to the user and\n",
    "    # make a random number \n",
    "    \n",
    "    def this_is_my_function():\n",
    "        print(\"You have called this_is_my_function\")\n",
    "        \n",
    "    def make_a_random_number():\n",
    "        a_random_number = # code to make random number\n",
    "        return a_random_number \n",
    "\n",
    "~~~\n",
    "\n",
    "Now in another file I can import my library called **mylibrary.py** and use the functions from it whenever and however many times. \n",
    "\n",
    "*Note: this is actually an incomplete library. Just for demonstrative purposes.* \n",
    "\n",
    "~~~python\n",
    "    # currentfile.py\n",
    "    \n",
    "    import mylibrary as mylib\n",
    "    \n",
    "    mylib.this_is_my_function()\n",
    "    \n",
    "    print(\"A random number below...\")\n",
    "    \n",
    "    new_random_number = mylib.make_a_random_number()\n",
    "    \n",
    "    print(new_random_number)\n",
    "\n",
    "~~~\n",
    "\n"
   ]
  },
  {
   "cell_type": "markdown",
   "id": "27bc874f-0591-4a12-9b18-5c5ae6c5d2cd",
   "metadata": {},
   "source": [
    "## Important Python Libraries \n",
    "\n",
    "There are a few key Python libraries for Data Analysis, Visualization, Modeling, Machine Learning / Deep Learning / AI. \n",
    "\n",
    "All of these libraries integrate really well with one another. A common data science workspace consists of importing all (or nearly all) of these libraries within a project. \n",
    "\n",
    "- **Pandas** Data handling library \n",
    "\n",
    "- **Matplotlib** Data visualization library \n",
    "\n",
    "- **NumPy** Numerical computing library. Extends Python data structures to include array forms. Allows intuitive Linear Algebra and Vector Calculus to be done with Python.  \n",
    "\n",
    "- **Scikit-Learn** general statistical and mathematical modeling library, including AI functions \n",
    "\n",
    "- **TensorFlow** AI / Machine Learning library \n",
    "\n",
    "- **Keras** neural network library "
   ]
  },
  {
   "cell_type": "markdown",
   "id": "0564e2e3-6477-4fa4-8624-20cde382fe8a",
   "metadata": {},
   "source": [
    "*Note: The libraries above somewhat go from more general to more percise but they are not intended to be that linear in functionality.*\n"
   ]
  },
  {
   "cell_type": "code",
   "execution_count": null,
   "id": "9e635a41-473a-48e5-bfae-0c6c67bc8db7",
   "metadata": {},
   "outputs": [],
   "source": []
  }
 ],
 "metadata": {
  "kernelspec": {
   "display_name": "Python 3 (ipykernel)",
   "language": "python",
   "name": "python3"
  },
  "language_info": {
   "codemirror_mode": {
    "name": "ipython",
    "version": 3
   },
   "file_extension": ".py",
   "mimetype": "text/x-python",
   "name": "python",
   "nbconvert_exporter": "python",
   "pygments_lexer": "ipython3",
   "version": "3.10.9"
  }
 },
 "nbformat": 4,
 "nbformat_minor": 5
}
